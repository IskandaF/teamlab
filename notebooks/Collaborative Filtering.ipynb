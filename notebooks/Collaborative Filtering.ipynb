{
 "cells": [
  {
   "cell_type": "code",
   "execution_count": null,
   "id": "96acdb67",
   "metadata": {},
   "outputs": [],
   "source": [
    "# Including the Jakkard Distance"
   ]
  }
 ],
 "metadata": {
  "kernelspec": {
   "display_name": "teamlab",
   "language": "python",
   "name": "teamlab"
  },
  "language_info": {
   "codemirror_mode": {
    "name": "ipython",
    "version": 3
   },
   "file_extension": ".py",
   "mimetype": "text/x-python",
   "name": "python",
   "nbconvert_exporter": "python",
   "pygments_lexer": "ipython3",
   "version": "3.9.0"
  }
 },
 "nbformat": 4,
 "nbformat_minor": 5
}
