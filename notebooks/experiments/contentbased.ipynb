{
 "cells": [
  {
   "cell_type": "code",
   "execution_count": 1,
   "id": "f5387241",
   "metadata": {},
   "outputs": [],
   "source": [
    "import numpy as np\n",
    "import pandas as pd\n",
    "from sklearn.metrics.pairwise import cosine_similarity\n",
    "from sklearn.metrics import mean_squared_error\n",
    "from sklearn.model_selection import train_test_split\n",
    "from sklearn.feature_extraction.text import TfidfVectorizer\n",
    "from sklearn.metrics.pairwise import linear_kernel\n",
    "from surprise import Dataset"
   ]
  },
  {
   "cell_type": "code",
   "execution_count": 2,
   "id": "4ff76e42",
   "metadata": {},
   "outputs": [],
   "source": [
    "data = Dataset.load_builtin('ml-100k')"
   ]
  },
  {
   "cell_type": "code",
   "execution_count": 3,
   "id": "0c559337",
   "metadata": {},
   "outputs": [
    {
     "name": "stderr",
     "output_type": "stream",
     "text": [
      "/Users/soulist/Sites/UCL_Computer_Science/teams_matching/teamlab/lib/python3.9/site-packages/IPython/core/interactiveshell.py:3441: DtypeWarning: Columns (10) have mixed types.Specify dtype option on import or set low_memory=False.\n",
      "  exec(code_obj, self.user_global_ns, self.user_ns)\n"
     ]
    }
   ],
   "source": [
    "movies = pd.read_csv('../../data/external/movies_metadata.csv')"
   ]
  },
  {
   "cell_type": "code",
   "execution_count": 4,
   "id": "1f89ef75",
   "metadata": {},
   "outputs": [
    {
     "name": "stdout",
     "output_type": "stream",
     "text": [
      "0        False\n",
      "1        False\n",
      "2        False\n",
      "3        False\n",
      "4        False\n",
      "         ...  \n",
      "45461    False\n",
      "45462    False\n",
      "45463    False\n",
      "45464    False\n",
      "45465    False\n",
      "Name: adult, Length: 45466, dtype: bool\n"
     ]
    }
   ],
   "source": [
    "print(movies[\"adult\"]==\"true\")"
   ]
  },
  {
   "cell_type": "code",
   "execution_count": 5,
   "id": "be2a44f5",
   "metadata": {},
   "outputs": [
    {
     "data": {
      "text/plain": [
       "\"Led by Woody, Andy's toys live happily in his room until Andy's birthday brings Buzz Lightyear onto the scene. Afraid of losing his place in Andy's heart, Woody plots against Buzz. But when circumstances separate Buzz and Woody from their owner, the duo eventually learns to put aside their differences.\""
      ]
     },
     "execution_count": 5,
     "metadata": {},
     "output_type": "execute_result"
    }
   ],
   "source": [
    "movies[\"overview\"][0]"
   ]
  },
  {
   "cell_type": "code",
   "execution_count": 6,
   "id": "58bf175b",
   "metadata": {},
   "outputs": [],
   "source": [
    "tfidf = TfidfVectorizer(stop_words=\"english\")\n"
   ]
  },
  {
   "cell_type": "code",
   "execution_count": 7,
   "id": "e4f53c97",
   "metadata": {},
   "outputs": [
    {
     "data": {
      "text/plain": [
       "(45466, 75827)"
      ]
     },
     "execution_count": 7,
     "metadata": {},
     "output_type": "execute_result"
    }
   ],
   "source": [
    "movies[\"overview\"] = movies[\"overview\"].fillna(\"\")\n",
    "#Construct the required TF-IDF matrix by applying the fit_transform method on the overview feature\n",
    "overview_matrix = tfidf.fit_transform(movies[\"overview\"])\n",
    "#Output the shape of tfidf_matrix\n",
    "overview_matrix.shape"
   ]
  },
  {
   "cell_type": "code",
   "execution_count": null,
   "id": "36b52692",
   "metadata": {},
   "outputs": [],
   "source": [
    "similarity_matrix = linear_kernel(overview_matrix,overview_matrix)\n",
    "# similarity_matrix"
   ]
  },
  {
   "cell_type": "code",
   "execution_count": null,
   "id": "fa933300",
   "metadata": {},
   "outputs": [],
   "source": [
    "#movies index mapping\n",
    "mapping = pd.Series(movies.index,index = movies[‘title’])\n",
    "mapping"
   ]
  },
  {
   "cell_type": "code",
   "execution_count": null,
   "id": "90552c2e",
   "metadata": {},
   "outputs": [],
   "source": [
    "def recommend_movies_based_on_plot(movie_input):\n",
    "    movie_index = mapping[movie_input]\n",
    "    #get similarity values with other movies\n",
    "    #similarity_score is the list of index and similarity matrix\n",
    "    similarity_score = list(enumerate(similarity_matrix[movie_index]))\n",
    "    #sort in descending order the similarity score of movie inputted with all the other movies\n",
    "    similarity_score = sorted(similarity_score, key=lambda x: x[1], reverse=True)\n",
    "    # Get the scores of the 15 most similar movies. Ignore the first movie.\n",
    "    similarity_score = similarity_score[1:15]\n",
    "    #return movie names using the mapping series\n",
    "    movie_indices = [i[0] for i in similarity_score]\n",
    "    return (movies[‘title’].iloc[movie_indices])"
   ]
  },
  {
   "cell_type": "code",
   "execution_count": null,
   "id": "9fc3ef43",
   "metadata": {},
   "outputs": [],
   "source": []
  }
 ],
 "metadata": {
  "kernelspec": {
   "display_name": "Python 3 (ipykernel)",
   "language": "python",
   "name": "python3"
  },
  "language_info": {
   "codemirror_mode": {
    "name": "ipython",
    "version": 3
   },
   "file_extension": ".py",
   "mimetype": "text/x-python",
   "name": "python",
   "nbconvert_exporter": "python",
   "pygments_lexer": "ipython3",
   "version": "3.9.0"
  }
 },
 "nbformat": 4,
 "nbformat_minor": 5
}
